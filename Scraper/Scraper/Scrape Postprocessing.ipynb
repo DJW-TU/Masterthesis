{
 "cells": [
  {
   "cell_type": "code",
   "execution_count": 15,
   "id": "07b5c1c8",
   "metadata": {},
   "outputs": [],
   "source": [
    "import pandas as pd\n",
    "import re\n",
    "import regex as rx\n",
    "from tabulate import tabulate\n",
    "from IPython.display import display, HTML"
   ]
  },
  {
   "cell_type": "code",
   "execution_count": 16,
   "id": "17dff4cd",
   "metadata": {},
   "outputs": [],
   "source": [
    "data = pd.read_csv('C:/Users/dominik/Desktop/Uni/Masterthesis/Data/Outputs/Scrape/220705_html_content.csv', sep='\\t')"
   ]
  },
  {
   "cell_type": "code",
   "execution_count": 17,
   "id": "9aa53bb9",
   "metadata": {},
   "outputs": [],
   "source": [
    "data = data[~data[\"links\"].str.contains(\"cloudflare\", na = False)]"
   ]
  },
  {
   "cell_type": "code",
   "execution_count": 18,
   "id": "dea76b63",
   "metadata": {},
   "outputs": [],
   "source": [
    "data = data.dropna()\n",
    "data = data.drop_duplicates(subset=['html_content'], keep=\"first\")"
   ]
  },
  {
   "cell_type": "code",
   "execution_count": 19,
   "id": "a48f09f5",
   "metadata": {},
   "outputs": [
    {
     "name": "stderr",
     "output_type": "stream",
     "text": [
      "C:\\Users\\dominik\\AppData\\Roaming\\Python\\Python37\\site-packages\\ipykernel_launcher.py:4: FutureWarning: The default value of regex will change from True to False in a future version.\n",
      "  after removing the cwd from sys.path.\n",
      "C:\\Users\\dominik\\AppData\\Roaming\\Python\\Python37\\site-packages\\ipykernel_launcher.py:5: FutureWarning: The default value of regex will change from True to False in a future version.\n",
      "  \"\"\"\n"
     ]
    }
   ],
   "source": [
    "# get only subset of data - less than x websites\n",
    "\n",
    "## shorten links in order to only represent start of link\n",
    "data[\"shortened\"] = data[\"links\"].str.replace(\"https://www.\",\"\")\n",
    "data[\"shortened\"] = data[\"shortened\"].str.replace(\"https://app.\",\"\")\n",
    "data[\"shortened\"] = data[\"shortened\"].str.replace(\"https://\",\"\")\n",
    "\n",
    "## split links into multiple parts and get project links - only first part of split represents middle part of link\n",
    "data[\"project_website\"] = data[\"shortened\"].map(lambda x: re.split(r\"\\.\", x)[0])\n",
    "\n",
    "## drop unnecessary columns  \n",
    "data = data.drop(data.columns[[0,3]],axis =1)\n",
    " \n",
    "## count appearence of websites in corpus\n",
    "data_summary = data.groupby(['project_website'])['project_website'].count()\n",
    "data_summary = pd.DataFrame(data_summary)\n",
    "data_summary.rename(columns = {\"project_website\": \"count\"},inplace = True)\n",
    "data_summary.reset_index(inplace=True)"
   ]
  },
  {
   "cell_type": "code",
   "execution_count": 20,
   "id": "9a6d03be",
   "metadata": {},
   "outputs": [
    {
     "data": {
      "image/png": "[encoded data removed]",
      "text/plain": [
       "<Figure size 432x288 with 1 Axes>"
      ]
     },
     "metadata": {
      "needs_background": "light"
     },
     "output_type": "display_data"
    }
   ],
   "source": [
    "## count the appearences of subsites of projects\n",
    "plot_summary = data_summary.groupby(['count'])['count'].count()\n",
    "## create dataframe\n",
    "plot_summary = pd.DataFrame(plot_summary)\n",
    "\n",
    "## rename columns and replace index\n",
    "plot_summary.rename(columns = {\"count\": \"count_agg\"},inplace = True)\n",
    "plot_summary.reset_index(inplace=True)\n",
    "plot_summary.rename(columns = {\"count\": \"count_websites\"},inplace = True)\n",
    "\n",
    "## plot aggregated data\n",
    "plot_summary[\"count_agg\"].plot(kind = \"bar\")\n",
    "\n",
    "## decide cutoff point to decide how many websites should be represented\n",
    "plot_summary[\"Readjust\"] = plot_summary[\"count_websites\"] > 15"
   ]
  },
  {
   "cell_type": "code",
   "execution_count": 22,
   "id": "4b8a263e",
   "metadata": {},
   "outputs": [],
   "source": [
    "plot_summary.to_csv(\"C:/Users/dominik/Desktop/Uni/Masterthesis/Data/Outputs/Scrape/plot_summary.csv\")"
   ]
  },
  {
   "cell_type": "code",
   "execution_count": 6,
   "id": "ca86a9f6",
   "metadata": {},
   "outputs": [],
   "source": [
    "## create dictionary to map cutoff point\n",
    "readjust_dict = dict(zip(plot_summary.count_websites, plot_summary.Readjust))\n",
    "\n",
    "## map cutoff point to data summary\n",
    "data_summary[\"readjust\"] = data_summary[\"count\"].map(readjust_dict)\n",
    "\n",
    "## create dictionary to map cutoff point on data\n",
    "pro_rea = dict(zip(data_summary.project_website,data_summary.readjust))\n",
    "\n",
    "## map cutoff point to data\n",
    "data[\"readjust\"] = data[\"project_website\"].map(pro_rea)\n",
    "\n",
    "# count words\n",
    "data[\"word_count\"] = data[\"html_content\"].str.split().str.len()\n",
    "\n",
    "## filter for project_website where more than 15 websites were scraped and separate dataset into two parts\n",
    "data_no_strip = data[data[\"readjust\"] == False]\n",
    "data_no_strip = data_no_strip.drop([\"readjust\"],axis = 1)\n",
    "data_sub = data[data[\"readjust\"] == True]\n",
    "data_sub = data_sub.drop([\"readjust\"],axis = 1)\n",
    "data_sub = data_sub.sort_values(['project_website','word_count'],ascending=False)\n",
    "\n",
    "## applying rank in order to only filter out with fewest words\n",
    "#data_sub[\"rank\"] = data_sub[[\"project_website\",\"word_count\"]].apply(tuple,axis=1).rank(method='dense',ascending=False).astype(int)\n",
    "data_sub[\"rank\"] = data_sub.groupby(\"project_website\")[\"word_count\"].rank(\"dense\", ascending=False)\n",
    "\n",
    "## filter out all websites after 15 and prepare dataset for aggregation with other websites\n",
    "data_strip = data_sub[data_sub[\"rank\"]<=15]\n",
    "\n",
    "## aggregate data together\n",
    "data_normalized = data_no_strip.append(data_strip, ignore_index = True)\n",
    "data_normalized = data_normalized.drop(data_strip.columns[[2,4]],axis =1)"
   ]
  },
  {
   "cell_type": "code",
   "execution_count": 7,
   "id": "04a7a18a",
   "metadata": {},
   "outputs": [
    {
     "data": {
      "text/html": [
       "<div>\n",
       "<style scoped>\n",
       "    .dataframe tbody tr th:only-of-type {\n",
       "        vertical-align: middle;\n",
       "    }\n",
       "\n",
       "    .dataframe tbody tr th {\n",
       "        vertical-align: top;\n",
       "    }\n",
       "\n",
       "    .dataframe thead th {\n",
       "        text-align: right;\n",
       "    }\n",
       "</style>\n",
       "<table border=\"1\" class=\"dataframe\">\n",
       "  <thead>\n",
       "    <tr style=\"text-align: right;\">\n",
       "      <th></th>\n",
       "      <th>links</th>\n",
       "      <th>html_content</th>\n",
       "      <th>word_count</th>\n",
       "    </tr>\n",
       "  </thead>\n",
       "  <tbody>\n",
       "    <tr>\n",
       "      <th>0</th>\n",
       "      <td>https://boredapeyachtclub.com/#/mayc/home#team</td>\n",
       "      <td>BUY AN APE\\nROADMAP\\nTEAM\\nGALLERY\\nPROVENANCE...</td>\n",
       "      <td>588</td>\n",
       "    </tr>\n",
       "    <tr>\n",
       "      <th>1</th>\n",
       "      <td>https://boredapeyachtclub.com/#/provenance</td>\n",
       "      <td>BUY AN APE\\nROADMAP\\nTEAM\\nGALLERY\\nPROVENANCE...</td>\n",
       "      <td>70181</td>\n",
       "    </tr>\n",
       "    <tr>\n",
       "      <th>2</th>\n",
       "      <td>https://boredapeyachtclub.com/#/mayc/terms</td>\n",
       "      <td>BUY AN APE\\nROADMAP\\nTEAM\\nGALLERY\\nPROVENANCE...</td>\n",
       "      <td>2451</td>\n",
       "    </tr>\n",
       "    <tr>\n",
       "      <th>3</th>\n",
       "      <td>https://boredapeyachtclub.com/#</td>\n",
       "      <td>WELCOME TO\\nTHE BORED APE\\nYACHT CLUB\\nENTER\\n...</td>\n",
       "      <td>55</td>\n",
       "    </tr>\n",
       "    <tr>\n",
       "      <th>4</th>\n",
       "      <td>https://boredapeyachtclub.com/#/home#roadmap</td>\n",
       "      <td>BUY AN APE\\nROADMAP\\nTEAM\\nGALLERY\\nPROVENANCE...</td>\n",
       "      <td>676</td>\n",
       "    </tr>\n",
       "    <tr>\n",
       "      <th>...</th>\n",
       "      <td>...</td>\n",
       "      <td>...</td>\n",
       "      <td>...</td>\n",
       "    </tr>\n",
       "    <tr>\n",
       "      <th>1726</th>\n",
       "      <td>https://www.coolcatsnft.com/charity</td>\n",
       "      <td>CONNECT\\nCool Cats Charity\\nA core value of th...</td>\n",
       "      <td>184</td>\n",
       "    </tr>\n",
       "    <tr>\n",
       "      <th>1727</th>\n",
       "      <td>https://www.coolcatsnft.com/pet-checker</td>\n",
       "      <td>CONNECT\\nPet Checker\\nUse the pet checker belo...</td>\n",
       "      <td>139</td>\n",
       "    </tr>\n",
       "    <tr>\n",
       "      <th>1728</th>\n",
       "      <td>https://www.coolcatsnft.com/team</td>\n",
       "      <td>CONNECT\\nThe Team\\nSay hello to the Cool Cats ...</td>\n",
       "      <td>133</td>\n",
       "    </tr>\n",
       "    <tr>\n",
       "      <th>1729</th>\n",
       "      <td>https://www.coolcatsnft.com/leaderboard/quests...</td>\n",
       "      <td>CONNECT\\nQUESTS COMPLETED\\nBACK\\n1ST\\n0x1ce......</td>\n",
       "      <td>108</td>\n",
       "    </tr>\n",
       "    <tr>\n",
       "      <th>1730</th>\n",
       "      <td>https://www.coolcatsnft.com/downloads</td>\n",
       "      <td>CONNECT\\nDownloads\\nFeel free to download and ...</td>\n",
       "      <td>86</td>\n",
       "    </tr>\n",
       "  </tbody>\n",
       "</table>\n",
       "<p>1731 rows × 3 columns</p>\n",
       "</div>"
      ],
      "text/plain": [
       "                                                  links  \\\n",
       "0        https://boredapeyachtclub.com/#/mayc/home#team   \n",
       "1            https://boredapeyachtclub.com/#/provenance   \n",
       "2            https://boredapeyachtclub.com/#/mayc/terms   \n",
       "3                       https://boredapeyachtclub.com/#   \n",
       "4          https://boredapeyachtclub.com/#/home#roadmap   \n",
       "...                                                 ...   \n",
       "1726                https://www.coolcatsnft.com/charity   \n",
       "1727            https://www.coolcatsnft.com/pet-checker   \n",
       "1728                   https://www.coolcatsnft.com/team   \n",
       "1729  https://www.coolcatsnft.com/leaderboard/quests...   \n",
       "1730              https://www.coolcatsnft.com/downloads   \n",
       "\n",
       "                                           html_content  word_count  \n",
       "0     BUY AN APE\\nROADMAP\\nTEAM\\nGALLERY\\nPROVENANCE...         588  \n",
       "1     BUY AN APE\\nROADMAP\\nTEAM\\nGALLERY\\nPROVENANCE...       70181  \n",
       "2     BUY AN APE\\nROADMAP\\nTEAM\\nGALLERY\\nPROVENANCE...        2451  \n",
       "3     WELCOME TO\\nTHE BORED APE\\nYACHT CLUB\\nENTER\\n...          55  \n",
       "4     BUY AN APE\\nROADMAP\\nTEAM\\nGALLERY\\nPROVENANCE...         676  \n",
       "...                                                 ...         ...  \n",
       "1726  CONNECT\\nCool Cats Charity\\nA core value of th...         184  \n",
       "1727  CONNECT\\nPet Checker\\nUse the pet checker belo...         139  \n",
       "1728  CONNECT\\nThe Team\\nSay hello to the Cool Cats ...         133  \n",
       "1729  CONNECT\\nQUESTS COMPLETED\\nBACK\\n1ST\\n0x1ce......         108  \n",
       "1730  CONNECT\\nDownloads\\nFeel free to download and ...          86  \n",
       "\n",
       "[1731 rows x 3 columns]"
      ]
     },
     "execution_count": 7,
     "metadata": {},
     "output_type": "execute_result"
    }
   ],
   "source": [
    "data_normalized"
   ]
  },
  {
   "cell_type": "code",
   "execution_count": 8,
   "id": "5a25b547",
   "metadata": {},
   "outputs": [],
   "source": [
    "# calculate quantity of not normalized websites\n",
    "quantity_websites = len(data)\n",
    "\n",
    "# calculate word quantity of not normalized websites \n",
    "words_data = data[\"word_count\"].sum()\n",
    "\n",
    "# calculate quantity of normalized websites\n",
    "quantity_websites_normalized = len(data_normalized)\n",
    "\n",
    "# calculate word quantity of normalized websites \n",
    "words_data_normalized = data_normalized[\"word_count\"].sum()\n",
    "\n",
    "# calculate word difference between not normalized and normalized data\n",
    "word_difference = words_data - words_data_normalized"
   ]
  },
  {
   "cell_type": "code",
   "execution_count": 9,
   "id": "99fe105d",
   "metadata": {},
   "outputs": [],
   "source": [
    "# tabelize data to display in thesis\n",
    "table_data = {\"Words Dataset\":[words_data],\n",
    "              \"Words Normalized Dataset\":[words_data_normalized],\n",
    "              \"Words Removed from Data\":[word_difference],\n",
    "              \"Quantity of unique websites in Dataset\":[quantity_websites],\n",
    "              \"Quantity of unique websites in Normalized Dataset\":[quantity_websites_normalized]}\n",
    "table_inf = pd.DataFrame(table_data)"
   ]
  },
  {
   "cell_type": "code",
   "execution_count": 10,
   "id": "8477df62",
   "metadata": {},
   "outputs": [],
   "source": [
    "table_inf_transposed = table_inf.T\n",
    "table_inf_transposed.rename(columns = {0:\"count\"},inplace = True)"
   ]
  },
  {
   "cell_type": "code",
   "execution_count": 11,
   "id": "dbcb08ed",
   "metadata": {},
   "outputs": [],
   "source": [
    "table_inf_transposed.loc[:, \"count_thousands\"] = table_inf_transposed[\"count\"].map('{:,}'.format)"
   ]
  },
  {
   "cell_type": "code",
   "execution_count": 12,
   "id": "a640e3ce",
   "metadata": {},
   "outputs": [
    {
     "name": "stdout",
     "output_type": "stream",
     "text": [
      "\\begin{tabular}{lrl}\n",
      "\\toprule\n",
      "{} &    count & count\\_thousands \\\\\n",
      "\\midrule\n",
      "Words Dataset                                     &  1121145 &       1,121,145 \\\\\n",
      "Words Normalized Dataset                          &  1105325 &       1,105,325 \\\\\n",
      "Words Removed from Data                           &    15820 &          15,820 \\\\\n",
      "Quantity of unique websites in Dataset            &     1917 &           1,917 \\\\\n",
      "Quantity of unique websites in Normalized Dataset &     1731 &           1,731 \\\\\n",
      "\\bottomrule\n",
      "\\end{tabular}\n",
      "\n"
     ]
    }
   ],
   "source": [
    "print(table_inf_transposed.to_latex(index=True))  "
   ]
  },
  {
   "cell_type": "code",
   "execution_count": 13,
   "id": "ba22aa2b",
   "metadata": {},
   "outputs": [],
   "source": [
    "data_normalized.to_csv('C:/Users/dominik/Desktop/Uni/Masterthesis/Data/Outputs/Scrape/220705_html_content_normalized.csv',index=False)"
   ]
  }
 ],
 "metadata": {
  "kernelspec": {
   "display_name": "Python 3 (ipykernel)",
   "language": "python",
   "name": "python3"
  },
  "language_info": {
   "codemirror_mode": {
    "name": "ipython",
    "version": 3
   },
   "file_extension": ".py",
   "mimetype": "text/x-python",
   "name": "python",
   "nbconvert_exporter": "python",
   "pygments_lexer": "ipython3",
   "version": "3.7.13"
  }
 },
 "nbformat": 4,
 "nbformat_minor": 5
}
