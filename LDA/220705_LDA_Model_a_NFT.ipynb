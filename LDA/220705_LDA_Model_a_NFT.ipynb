{
 "cells": [
  {
   "cell_type": "code",
   "execution_count": 1,
   "metadata": {},
   "outputs": [
    {
     "name": "stderr",
     "output_type": "stream",
     "text": [
      "C:\\Users\\dominik\\Anaconda3\\lib\\site-packages\\qgrid\\grid.py:30: DeprecationWarning: distutils Version classes are deprecated. Use packaging.version instead.\n",
      "  if LooseVersion(pd.__version__) > LooseVersion('0.20.0'):\n",
      "C:\\Users\\dominik\\Anaconda3\\lib\\site-packages\\qgrid\\grid.py:30: DeprecationWarning: distutils Version classes are deprecated. Use packaging.version instead.\n",
      "  if LooseVersion(pd.__version__) > LooseVersion('0.20.0'):\n",
      "C:\\Users\\dominik\\Anaconda3\\lib\\site-packages\\ipywidgets\\widgets\\widget.py:282: DeprecationWarning: Widget registration using a string name has been deprecated. Widget registration now uses a plain `@register` decorator.\n",
      "  warnings.warn(\"Widget registration using a string name has been deprecated. Widget registration now uses a plain `@register` decorator.\", DeprecationWarning)\n",
      "C:\\Users\\dominik\\Anaconda3\\lib\\site-packages\\qgrid\\grid.py:573: DeprecationWarning: metadata {'sync': True} was set from the constructor. With traitlets 4.1, metadata should be set using the .tag() method, e.g., Int().tag(key1='value1', key2='value2')\n",
      "  _df_json = Unicode('', sync=True)\n"
     ]
    }
   ],
   "source": [
    "import warnings\n",
    "warnings.filterwarnings('ignore')\n",
    "import numpy as np\n",
    "import pandas as pd\n",
    "import gensim\n",
    "import nltk\n",
    "import re\n",
    "import spacy\n",
    "import en_core_web_sm\n",
    "import pyLDAvis\n",
    "import pyLDAvis.gensim_models\n",
    "import matplotlib.pyplot as plt\n",
    "import unicodedata\n",
    "import regex as rx\n",
    "import qgrid\n",
    "\n",
    "from tqdm import tqdm\n",
    "from pprint import pprint\n",
    "from gensim.utils import simple_preprocess\n",
    "from gensim.parsing.preprocessing import STOPWORDS\n",
    "from gensim.models import CoherenceModel\n",
    "import gensim.corpora as corpora\n",
    "from nltk.stem import WordNetLemmatizer, SnowballStemmer"
   ]
  },
  {
   "cell_type": "code",
   "execution_count": 2,
   "metadata": {},
   "outputs": [
    {
     "name": "stderr",
     "output_type": "stream",
     "text": [
      "[nltk_data] Downloading package stopwords to\n",
      "[nltk_data]     C:\\Users\\dominik\\AppData\\Roaming\\nltk_data...\n",
      "[nltk_data]   Package stopwords is already up-to-date!\n"
     ]
    },
    {
     "data": {
      "text/plain": [
       "True"
      ]
     },
     "execution_count": 2,
     "metadata": {},
     "output_type": "execute_result"
    }
   ],
   "source": [
    "from nltk.corpus import stopwords\n",
    "nltk.download('stopwords')"
   ]
  },
  {
   "cell_type": "code",
   "execution_count": 3,
   "metadata": {},
   "outputs": [],
   "source": [
    "data = pd.read_csv('C:/Users/dominik/Desktop/Uni/Masterthesis/Data/Outputs/Scrape/220705_html_content_normalized.csv', sep=',')\n",
    "data = data.sample(frac=1, random_state = 1)"
   ]
  },
  {
   "cell_type": "code",
   "execution_count": 4,
   "metadata": {},
   "outputs": [
    {
     "data": {
      "text/html": [
       "<div>\n",
       "<style scoped>\n",
       "    .dataframe tbody tr th:only-of-type {\n",
       "        vertical-align: middle;\n",
       "    }\n",
       "\n",
       "    .dataframe tbody tr th {\n",
       "        vertical-align: top;\n",
       "    }\n",
       "\n",
       "    .dataframe thead th {\n",
       "        text-align: right;\n",
       "    }\n",
       "</style>\n",
       "<table border=\"1\" class=\"dataframe\">\n",
       "  <thead>\n",
       "    <tr style=\"text-align: right;\">\n",
       "      <th></th>\n",
       "      <th>links</th>\n",
       "      <th>html_content</th>\n",
       "      <th>word_count</th>\n",
       "    </tr>\n",
       "  </thead>\n",
       "  <tbody>\n",
       "    <tr>\n",
       "      <th>723</th>\n",
       "      <td>https://ethereals.wtf/#team</td>\n",
       "      <td>HOME\\nSTORY\\nROADMAP\\nTEAM\\nNFT BASICS\\nFAQ\\nD...</td>\n",
       "      <td>212</td>\n",
       "    </tr>\n",
       "    <tr>\n",
       "      <th>1012</th>\n",
       "      <td>https://superplastic.co/collections/frontpage/...</td>\n",
       "      <td>DEFAULT TITLE\\nADD TO BAG\\nCase Of 12 Blindbox...</td>\n",
       "      <td>12</td>\n",
       "    </tr>\n",
       "    <tr>\n",
       "      <th>1683</th>\n",
       "      <td>https://eulerbeats.com/</td>\n",
       "      <td>Drops\\nStake\\nDocs\\nContact\\nFutura is here!\\n...</td>\n",
       "      <td>140</td>\n",
       "    </tr>\n",
       "    <tr>\n",
       "      <th>1717</th>\n",
       "      <td>https://www.coolcatsnft.com/competition-rules/...</td>\n",
       "      <td>CONNECT\\nCool Cats Candy Bucket Giveaway Rules...</td>\n",
       "      <td>2863</td>\n",
       "    </tr>\n",
       "    <tr>\n",
       "      <th>1695</th>\n",
       "      <td>https://www.divineanarchy.com/edition-3-the-bu...</td>\n",
       "      <td>ABOUT\\nFAQ\\nNEWS\\nPLAY NOW\\nEDITION 3: THE BUR...</td>\n",
       "      <td>426</td>\n",
       "    </tr>\n",
       "    <tr>\n",
       "      <th>...</th>\n",
       "      <td>...</td>\n",
       "      <td>...</td>\n",
       "      <td>...</td>\n",
       "    </tr>\n",
       "    <tr>\n",
       "      <th>715</th>\n",
       "      <td>https://nfp.daz3d.com/frequently-asked-questions</td>\n",
       "      <td>NFPets\\nPartnerships\\nUtility\\nRoadmap\\nTeam\\n...</td>\n",
       "      <td>221</td>\n",
       "    </tr>\n",
       "    <tr>\n",
       "      <th>905</th>\n",
       "      <td>https://www.dgenesis.io/collections/prime/drips</td>\n",
       "      <td>ARBIDRIPS MINT FOR BRIDGEOOORS IS NOW LIVE - M...</td>\n",
       "      <td>673</td>\n",
       "    </tr>\n",
       "    <tr>\n",
       "      <th>1096</th>\n",
       "      <td>https://0xadventures.com/</td>\n",
       "      <td>Adventure Cards\\nDiscord\\nOpensea\\nTwitter\\nCo...</td>\n",
       "      <td>82</td>\n",
       "    </tr>\n",
       "    <tr>\n",
       "      <th>235</th>\n",
       "      <td>https://tubbycats.club/@ratwell</td>\n",
       "      <td>Profilverzeichnis\\nÜber diesen Server\\nMobile ...</td>\n",
       "      <td>230</td>\n",
       "    </tr>\n",
       "    <tr>\n",
       "      <th>1061</th>\n",
       "      <td>https://uunicorns.io/gen2-claim</td>\n",
       "      <td>Gen 2 Claim\\nClaim your Gen 2 egg/uni for ever...</td>\n",
       "      <td>86</td>\n",
       "    </tr>\n",
       "  </tbody>\n",
       "</table>\n",
       "<p>1731 rows × 3 columns</p>\n",
       "</div>"
      ],
      "text/plain": [
       "                                                  links  \\\n",
       "723                         https://ethereals.wtf/#team   \n",
       "1012  https://superplastic.co/collections/frontpage/...   \n",
       "1683                            https://eulerbeats.com/   \n",
       "1717  https://www.coolcatsnft.com/competition-rules/...   \n",
       "1695  https://www.divineanarchy.com/edition-3-the-bu...   \n",
       "...                                                 ...   \n",
       "715    https://nfp.daz3d.com/frequently-asked-questions   \n",
       "905     https://www.dgenesis.io/collections/prime/drips   \n",
       "1096                          https://0xadventures.com/   \n",
       "235                     https://tubbycats.club/@ratwell   \n",
       "1061                    https://uunicorns.io/gen2-claim   \n",
       "\n",
       "                                           html_content  word_count  \n",
       "723   HOME\\nSTORY\\nROADMAP\\nTEAM\\nNFT BASICS\\nFAQ\\nD...         212  \n",
       "1012  DEFAULT TITLE\\nADD TO BAG\\nCase Of 12 Blindbox...          12  \n",
       "1683  Drops\\nStake\\nDocs\\nContact\\nFutura is here!\\n...         140  \n",
       "1717  CONNECT\\nCool Cats Candy Bucket Giveaway Rules...        2863  \n",
       "1695  ABOUT\\nFAQ\\nNEWS\\nPLAY NOW\\nEDITION 3: THE BUR...         426  \n",
       "...                                                 ...         ...  \n",
       "715   NFPets\\nPartnerships\\nUtility\\nRoadmap\\nTeam\\n...         221  \n",
       "905   ARBIDRIPS MINT FOR BRIDGEOOORS IS NOW LIVE - M...         673  \n",
       "1096  Adventure Cards\\nDiscord\\nOpensea\\nTwitter\\nCo...          82  \n",
       "235   Profilverzeichnis\\nÜber diesen Server\\nMobile ...         230  \n",
       "1061  Gen 2 Claim\\nClaim your Gen 2 egg/uni for ever...          86  \n",
       "\n",
       "[1731 rows x 3 columns]"
      ]
     },
     "execution_count": 4,
     "metadata": {},
     "output_type": "execute_result"
    }
   ],
   "source": [
    "data"
   ]
  },
  {
   "cell_type": "code",
   "execution_count": 5,
   "metadata": {},
   "outputs": [],
   "source": [
    "documents = data['html_content']\n",
    "documents = pd.DataFrame(documents)"
   ]
  },
  {
   "cell_type": "code",
   "execution_count": 6,
   "metadata": {},
   "outputs": [],
   "source": [
    "CLEANR = re.compile('<.*?>|&([a-z0-9]+|#[0-9]{1,6}|#x[0-9a-f]{1,6});')\n",
    "\n",
    "def cleanhtml(raw_html):\n",
    "  cleantext = re.sub(CLEANR, '', raw_html)\n",
    "  return cleantext\n",
    "\n",
    "def remove_sandl_words(s,s_count,l_count):\n",
    "    return ' '.join([w for w in s.split() if len(w)>s_count and len(w)<l_count])"
   ]
  },
  {
   "cell_type": "code",
   "execution_count": 7,
   "metadata": {},
   "outputs": [],
   "source": [
    "def preprocess(df):\n",
    "\n",
    "    # remove html tags from data\n",
    "    df['text_preprocessed'] = df.iloc[:, 0].str.replace(r\"->\",\"\")\n",
    "    df['text_preprocessed'] = df.iloc[:, 1].str.replace(r\"<-\",\"\")\n",
    "    df['text_preprocessed'] = df.iloc[:, 1].str.replace(r\"[\",\"<\")\n",
    "    df['text_preprocessed'] = df.iloc[:, 1].str.replace(r\"]\",\">\")\n",
    "    df['text_preprocessed'] = df.iloc[:, 1].apply(cleanhtml)\n",
    "\n",
    "    #remove control characters\n",
    "    df['text_preprocessed'] = df.iloc[:, 1].map(lambda x: rx.sub(r'\\p{C}', ' ',x))\n",
    "    \n",
    "    #remove emails\n",
    "    df['text_preprocessed'] = df.iloc[:, 1].map(lambda x: rx.sub(r'\\S*@\\S*\\s?', '',x))\n",
    "    \n",
    "    # remove punctuation\n",
    "    df['text_preprocessed'] = df.iloc[:, 1].map(lambda x: re.sub(r'[,\\.!?]', '', x))\n",
    "\n",
    "    # remove words shorter than 3\n",
    "    df['text_preprocessed'] = df.iloc[:, 1].map(lambda x: remove_sandl_words(x,2,20))\n",
    "    \n",
    "    # change to lowercase letters\n",
    "    df['text_preprocessed'] = df.iloc[:, 1].map(lambda x: x.lower())\n",
    "    \n",
    "    return df"
   ]
  },
  {
   "cell_type": "code",
   "execution_count": 8,
   "metadata": {},
   "outputs": [],
   "source": [
    "documents = preprocess(documents)"
   ]
  },
  {
   "cell_type": "code",
   "execution_count": 9,
   "metadata": {},
   "outputs": [],
   "source": [
    "documents[\"word_count\"] = documents['text_preprocessed'].str.split().str.len()"
   ]
  },
  {
   "cell_type": "code",
   "execution_count": 10,
   "metadata": {},
   "outputs": [
    {
     "data": {
      "text/html": [
       "<div>\n",
       "<style scoped>\n",
       "    .dataframe tbody tr th:only-of-type {\n",
       "        vertical-align: middle;\n",
       "    }\n",
       "\n",
       "    .dataframe tbody tr th {\n",
       "        vertical-align: top;\n",
       "    }\n",
       "\n",
       "    .dataframe thead th {\n",
       "        text-align: right;\n",
       "    }\n",
       "</style>\n",
       "<table border=\"1\" class=\"dataframe\">\n",
       "  <thead>\n",
       "    <tr style=\"text-align: right;\">\n",
       "      <th></th>\n",
       "      <th>html_content</th>\n",
       "      <th>text_preprocessed</th>\n",
       "      <th>word_count</th>\n",
       "    </tr>\n",
       "  </thead>\n",
       "  <tbody>\n",
       "    <tr>\n",
       "      <th>723</th>\n",
       "      <td>HOME\\nSTORY\\nROADMAP\\nTEAM\\nNFT BASICS\\nFAQ\\nD...</td>\n",
       "      <td>home story roadmap team nft basics faq discord...</td>\n",
       "      <td>175</td>\n",
       "    </tr>\n",
       "    <tr>\n",
       "      <th>1012</th>\n",
       "      <td>DEFAULT TITLE\\nADD TO BAG\\nCase Of 12 Blindbox...</td>\n",
       "      <td>default title add bag case blindboxes single b...</td>\n",
       "      <td>9</td>\n",
       "    </tr>\n",
       "    <tr>\n",
       "      <th>1683</th>\n",
       "      <td>Drops\\nStake\\nDocs\\nContact\\nFutura is here!\\n...</td>\n",
       "      <td>drops stake docs contact futura here futura th...</td>\n",
       "      <td>113</td>\n",
       "    </tr>\n",
       "    <tr>\n",
       "      <th>1717</th>\n",
       "      <td>CONNECT\\nCool Cats Candy Bucket Giveaway Rules...</td>\n",
       "      <td>connect cool cats candy bucket giveaway rules ...</td>\n",
       "      <td>2340</td>\n",
       "    </tr>\n",
       "    <tr>\n",
       "      <th>1695</th>\n",
       "      <td>ABOUT\\nFAQ\\nNEWS\\nPLAY NOW\\nEDITION 3: THE BUR...</td>\n",
       "      <td>about faq news play now edition the bureau hel...</td>\n",
       "      <td>348</td>\n",
       "    </tr>\n",
       "  </tbody>\n",
       "</table>\n",
       "</div>"
      ],
      "text/plain": [
       "                                           html_content  \\\n",
       "723   HOME\\nSTORY\\nROADMAP\\nTEAM\\nNFT BASICS\\nFAQ\\nD...   \n",
       "1012  DEFAULT TITLE\\nADD TO BAG\\nCase Of 12 Blindbox...   \n",
       "1683  Drops\\nStake\\nDocs\\nContact\\nFutura is here!\\n...   \n",
       "1717  CONNECT\\nCool Cats Candy Bucket Giveaway Rules...   \n",
       "1695  ABOUT\\nFAQ\\nNEWS\\nPLAY NOW\\nEDITION 3: THE BUR...   \n",
       "\n",
       "                                      text_preprocessed  word_count  \n",
       "723   home story roadmap team nft basics faq discord...         175  \n",
       "1012  default title add bag case blindboxes single b...           9  \n",
       "1683  drops stake docs contact futura here futura th...         113  \n",
       "1717  connect cool cats candy bucket giveaway rules ...        2340  \n",
       "1695  about faq news play now edition the bureau hel...         348  "
      ]
     },
     "execution_count": 10,
     "metadata": {},
     "output_type": "execute_result"
    }
   ],
   "source": [
    "documents.head()"
   ]
  },
  {
   "cell_type": "code",
   "execution_count": 11,
   "metadata": {},
   "outputs": [],
   "source": [
    "documents = documents[documents[\"word_count\"]<10000]"
   ]
  },
  {
   "cell_type": "code",
   "execution_count": 12,
   "metadata": {},
   "outputs": [],
   "source": [
    "num_words = documents[\"word_count\"].sum()"
   ]
  },
  {
   "cell_type": "code",
   "execution_count": 13,
   "metadata": {},
   "outputs": [
    {
     "data": {
      "text/plain": [
       "698042"
      ]
     },
     "execution_count": 13,
     "metadata": {},
     "output_type": "execute_result"
    }
   ],
   "source": [
    "num_words"
   ]
  },
  {
   "cell_type": "code",
   "execution_count": 14,
   "metadata": {},
   "outputs": [],
   "source": [
    "def sent_to_words(sentences):\n",
    "    for sentence in sentences:\n",
    "        yield(gensim.utils.simple_preprocess(str(sentence), deacc=False))  # deacc=True removes punctuations"
   ]
  },
  {
   "cell_type": "code",
   "execution_count": 15,
   "metadata": {},
   "outputs": [],
   "source": [
    "data = documents.text_preprocessed.values.tolist()\n",
    "documents_words = list(sent_to_words(data))"
   ]
  },
  {
   "cell_type": "code",
   "execution_count": 16,
   "metadata": {},
   "outputs": [],
   "source": [
    "# Build the bigram models\n",
    "bigram = gensim.models.Phrases(documents_words, min_count=5, threshold=100) # higher threshold fewer phrases.\n",
    "# Faster way to get a sentence clubbed as a bigram\n",
    "bigram_mod = gensim.models.phrases.Phraser(bigram)"
   ]
  },
  {
   "cell_type": "code",
   "execution_count": 17,
   "metadata": {},
   "outputs": [],
   "source": [
    "stop_words = stopwords.words('english')\n",
    "\n",
    "stop_words.extend(stopwords.words('german'))\n",
    "\n",
    "stop_words.extend(['blockchain','bitcoin','ethereum','technology','nft','nfts','mint','javascript','terms','condition','websites','terms','service'\n",
    "                   ,'website','cookie','impressum','imprint','etc','cookies'])\n",
    "\n",
    "# Define functions for stopwords, bigrams, trigrams and lemmatization\n",
    "def remove_stopwords(texts):\n",
    "    return [[word for word in simple_preprocess(str(doc)) if word not in stop_words] for doc in texts]\n",
    "\n",
    "def make_bigrams(texts):\n",
    "    return [bigram_mod[doc] for doc in texts]\n",
    "\n",
    "def lemmatization(texts, allowed_postags=['NOUN', 'ADJ', 'VERB', 'ADV']):\n",
    "    \"\"\"https://spacy.io/api/annotation\"\"\"\n",
    "    texts_out = []\n",
    "    for sent in texts:\n",
    "        doc = nlp(\" \".join(sent)) \n",
    "        texts_out.append([token.lemma_ for token in doc if token.pos_ in allowed_postags])\n",
    "    return texts_out"
   ]
  },
  {
   "cell_type": "code",
   "execution_count": 20,
   "metadata": {},
   "outputs": [
    {
     "name": "stdout",
     "output_type": "stream",
     "text": [
      "[['home', 'story', 'roadmap', 'team', 'basic', 'buy', 'shop', 'contact', 'eth', 'minting', 'est', 'origin', 'wormhole', 'sheet', 'ethereal', 'fun', 'park', 'operator', 'chaos', 'operator', 'etherealtron', 'win', 'create', 'playing', 'explore', 'sharing', 'make', 'ethereal', 'artist', 'ghost', 'active', 'player', 'community', 'painstakingly', 'draw', 'ethereal', 'hand', 'digitize', 'creator', 'banana', 'know', 'hyper', 'realistic', 'oil', 'painting', 'toy', 'pop_culture', 'icon', 'work', 'feature', 'private', 'collection', 'world', 'collaboration', 'brand', 'converse', 'work', 'feature', 'major', 'industry', 'publication', 'forbe', 'lead', 'artist', 'warhodl', 'marketing', 'strategy', 'support', 'event', 'planning', 'event', 'partnership', 'bayc', 'hodler', 'marketing', 'community', 'head', 'market', 'social_media', 'strategist', 'event', 'manager', 'bayc', 'hodler', 'mnmlty', 'project', 'management', 'product', 'development', 'lead', 'developer', 'laser', 'falcon', 'brand', 'development', 'storytelle', 'creative', 'strategy', 'community', 'manager', 'engagement', 'strategy', 'bayc', 'hodler', 'ethereal', 'rights_reserve', 'condition']]\n"
     ]
    }
   ],
   "source": [
    "# Remove Stop Words\n",
    "data_words_nostops = remove_stopwords(documents_words)\n",
    "\n",
    "# Form Bigrams\n",
    "data_words_bigrams = make_bigrams(data_words_nostops)\n",
    "\n",
    "# Initialize spacy 'en' model, keeping only tagger component (for efficiency)\n",
    "nlp = spacy.load(\"en_core_web_sm\", disable=['parser', 'ner'])\n",
    "nlp.max_length = 1500000\n",
    "\n",
    "# Do lemmatization keeping only noun, adj, vb, adv\n",
    "data_lemmatized = lemmatization(data_words_bigrams, allowed_postags=['NOUN', 'ADJ', 'VERB', 'ADV'])\n",
    "print(data_lemmatized[:1])"
   ]
  },
  {
   "cell_type": "code",
   "execution_count": 21,
   "metadata": {},
   "outputs": [
    {
     "name": "stdout",
     "output_type": "stream",
     "text": [
      "[[(0, 1), (1, 2), (2, 1), (3, 1), (4, 3), (5, 2), (6, 1), (7, 1), (8, 1), (9, 1), (10, 3), (11, 1), (12, 1), (13, 1), (14, 1), (15, 1), (16, 1), (17, 1), (18, 2), (19, 1), (20, 1), (21, 1), (22, 1), (23, 1), (24, 4), (25, 1), (26, 3), (27, 1), (28, 1), (29, 2), (30, 1), (31, 1), (32, 1), (33, 1), (34, 1), (35, 3), (36, 1), (37, 1), (38, 1), (39, 1), (40, 1), (41, 1), (42, 2), (43, 1), (44, 1), (45, 1), (46, 2), (47, 1), (48, 2), (49, 1), (50, 1), (51, 1), (52, 2), (53, 1), (54, 1), (55, 1), (56, 1), (57, 1), (58, 1), (59, 1), (60, 1), (61, 1), (62, 1), (63, 1), (64, 1), (65, 1), (66, 1), (67, 1), (68, 1), (69, 1), (70, 1), (71, 1), (72, 1), (73, 1), (74, 1), (75, 1), (76, 3), (77, 1), (78, 1), (79, 1), (80, 1), (81, 1), (82, 2), (83, 1), (84, 1)]]\n"
     ]
    }
   ],
   "source": [
    "# Create Dictionary\n",
    "id2word = corpora.Dictionary(data_lemmatized)\n",
    "# Create Corpus\n",
    "texts = data_lemmatized\n",
    "# Term Document Frequency\n",
    "corpus = [id2word.doc2bow(text) for text in texts]\n",
    "# View\n",
    "print(corpus[:1])"
   ]
  },
  {
   "cell_type": "code",
   "execution_count": 22,
   "metadata": {},
   "outputs": [],
   "source": [
    "words_total = 0\n",
    "for t in texts:\n",
    "    x = len(t)\n",
    "    words_total = words_total + x"
   ]
  },
  {
   "cell_type": "code",
   "execution_count": 23,
   "metadata": {},
   "outputs": [
    {
     "data": {
      "text/plain": [
       "351614"
      ]
     },
     "execution_count": 23,
     "metadata": {},
     "output_type": "execute_result"
    }
   ],
   "source": [
    "words_total"
   ]
  },
  {
   "cell_type": "code",
   "execution_count": 24,
   "metadata": {},
   "outputs": [
    {
     "name": "stdout",
     "output_type": "stream",
     "text": [
      "[(0,\n",
      "  '0.037*\"information\" + 0.026*\"use\" + 0.024*\"datum\" + 0.019*\"personal\" + '\n",
      "  '0.012*\"collect\" + 0.010*\"include\" + 0.010*\"right\" + 0.009*\"provide\" + '\n",
      "  '0.009*\"email\" + 0.009*\"service\"'),\n",
      " (1,\n",
      "  '0.017*\"collection\" + 0.014*\"art\" + 0.010*\"create\" + 0.009*\"token\" + '\n",
      "  '0.009*\"project\" + 0.008*\"artist\" + 0.007*\"holder\" + 0.007*\"unique\" + '\n",
      "  '0.007*\"community\" + 0.007*\"rtfkt\"'),\n",
      " (2,\n",
      "  '0.032*\"claim\" + 0.024*\"set\" + 0.017*\"buy\" + 0.015*\"product\" + 0.012*\"order\" '\n",
      "  '+ 0.011*\"blocknumber_number\" + 0.010*\"wallet\" + 0.010*\"phase\" + '\n",
      "  '0.010*\"metaverse\" + 0.009*\"gmoney\"'),\n",
      " (3,\n",
      "  '0.015*\"game\" + 0.008*\"community\" + 0.008*\"world\" + 0.006*\"team\" + '\n",
      "  '0.006*\"metaverse\" + 0.005*\"new\" + 0.005*\"get\" + 0.005*\"build\" + '\n",
      "  '0.005*\"play\" + 0.005*\"wallet\"'),\n",
      " (4,\n",
      "  '0.146*\"infinite\" + 0.028*\"infinite_irl\" + 0.010*\"cryptopunk\" + '\n",
      "  '0.009*\"metasaur\" + 0.008*\"superlativess_superlativess\" + 0.007*\"white\" + '\n",
      "  '0.007*\"body\" + 0.007*\"search\" + 0.007*\"color\" + 0.006*\"meebit\"'),\n",
      " (5,\n",
      "  '0.038*\"art\" + 0.019*\"use\" + 0.016*\"display\" + 0.015*\"drifting_drip\" + '\n",
      "  '0.012*\"car\" + 0.012*\"owner\" + 0.012*\"bmc\" + 0.011*\"driver\" + '\n",
      "  '0.011*\"purchase\" + 0.010*\"actual_owner\"'),\n",
      " (6,\n",
      "  '0.028*\"use\" + 0.019*\"right\" + 0.013*\"include\" + 0.013*\"content\" + '\n",
      "  '0.012*\"agree\" + 0.012*\"site\" + 0.010*\"purchase\" + 0.010*\"license\" + '\n",
      "  '0.009*\"agreement\" + 0.008*\"service\"'),\n",
      " (7,\n",
      "  '0.023*\"punk\" + 0.021*\"wallet\" + 0.016*\"revv\" + 0.014*\"bid\" + '\n",
      "  '0.013*\"guardian\" + 0.011*\"eth\" + 0.011*\"mta\" + 0.011*\"metanaut\" + '\n",
      "  '0.010*\"attribute\" + 0.010*\"auction\"')]\n"
     ]
    }
   ],
   "source": [
    "from multiprocessing import Process, freeze_support\n",
    "if __name__ == \"__main__\":\n",
    "    freeze_support()\n",
    "    # Build LDA model\n",
    "    lda_model = gensim.models.ldamodel.LdaModel(corpus=corpus,\n",
    "                                               id2word=id2word,\n",
    "                                               num_topics=8, \n",
    "                                               random_state=100,\n",
    "                                               update_every=1,\n",
    "                                               chunksize=100,\n",
    "                                               passes=10,\n",
    "                                               alpha='auto',\n",
    "                                               per_word_topics=True)\n",
    "    # Print the Keyword in the 8 topics\n",
    "    pprint(lda_model.print_topics())\n",
    "    doc_lda = lda_model[corpus]"
   ]
  },
  {
   "cell_type": "code",
   "execution_count": 25,
   "metadata": {},
   "outputs": [
    {
     "name": "stdout",
     "output_type": "stream",
     "text": [
      "\n",
      "Coherence Score:  0.5027008569531897\n"
     ]
    }
   ],
   "source": [
    "coherence_model_lda = CoherenceModel(model=lda_model, texts=data_lemmatized, \n",
    "                                                  dictionary=id2word, \n",
    "                                                      coherence='c_v')\n",
    "coherence_lda = coherence_model_lda.get_coherence()\n",
    "print('\\nCoherence Score: ', coherence_lda)"
   ]
  },
  {
   "cell_type": "code",
   "execution_count": 26,
   "metadata": {},
   "outputs": [],
   "source": [
    "def compute_coherence_values(dictionary, corpus, texts, limit, start=2, step=1):\n",
    "\n",
    "    coherence_values = []\n",
    "    model_list = []\n",
    "\n",
    "    for n_topics in tqdm(range(start, limit+1, step)):\n",
    "        model = gensim.models.ldamodel.LdaModel(corpus=corpus, id2word=id2word, num_topics= n_topics, random_state=100, update_every=1, chunksize=100, passes=10, alpha='auto', per_word_topics=True)        \n",
    "        model_list.append(model)\n",
    "        coherencemodel = CoherenceModel(model=model, texts=texts, dictionary=dictionary, coherence='c_v')\n",
    "        coherence_values.append(coherencemodel.get_coherence())\n",
    "\n",
    "    return model_list, coherence_values"
   ]
  },
  {
   "cell_type": "code",
   "execution_count": 27,
   "metadata": {},
   "outputs": [
    {
     "name": "stderr",
     "output_type": "stream",
     "text": [
      "100%|██████████████████████████████████████████████████████████████████████████████████| 19/19 [10:45<00:00, 33.96s/it]\n"
     ]
    }
   ],
   "source": [
    "total_num_topics = 20\n",
    "models, cvalues = compute_coherence_values(id2word,corpus,texts,total_num_topics)"
   ]
  },
  {
   "cell_type": "code",
   "execution_count": 28,
   "metadata": {},
   "outputs": [
    {
     "data": {
      "image/png": "[encoded data removed]",
      "text/plain": [
       "<Figure size 432x288 with 1 Axes>"
      ]
     },
     "metadata": {
      "needs_background": "light"
     },
     "output_type": "display_data"
    }
   ],
   "source": [
    "# Show graph\n",
    "limit=total_num_topics; start=2; step=1;\n",
    "x = range(start, limit+1, step)\n",
    "y = cvalues\n",
    "\n",
    "# predefine the graph results \n",
    "fig, ax = plt.subplots()\n",
    "plt.rcParams[\"figure.figsize\"] = [12.00, 6.00]\n",
    "#plt.rcParams[\"figure.autolayout\"] = True\n",
    "ticksize = 12\n",
    "labelsize = 14\n",
    "markersize = 7\n",
    "markercolor = 'blue'\n",
    "\n",
    "#plot the graph\n",
    "plt.plot(x, y, color='black', linestyle='-', linewidth = 2,\n",
    "         marker='o', markerfacecolor='white', markeredgecolor=markercolor, markersize=markersize, label =\"coherence values\")\n",
    "\n",
    "# define range on axes\n",
    "plt.xticks(np.arange(min(x), max(x)+1, 1.0), fontsize = ticksize)\n",
    "plt.yticks(np.arange(round(min(y),2), max(y)+0.02, 0.01), fontsize = ticksize)\n",
    "\n",
    "# name axes\n",
    "plt.xlabel(\"Number of Topics\", fontsize = labelsize)\n",
    "plt.ylabel(\"Coherence score\", fontsize = labelsize)\n",
    "\n",
    "# title & legend\n",
    "plt.suptitle(\"Coherence Score for Alpha = 1.0 and Beta = XX\", fontsize = 14, y = 0.97)\n",
    "plt.legend(loc='upper left')\n",
    "\n",
    "#remove borders\n",
    "ax.spines['top'].set_visible(False)\n",
    "ax.spines['right'].set_visible(False)\n",
    "ax.spines['left'].set_visible(True)\n",
    "ax.spines['bottom'].set_visible(True)\n",
    "\n",
    "#grid\n",
    "plt.grid(color = 'black',which = 'both', linestyle = '--', linewidth = 0.25)\n",
    "\n",
    "# print plot\n",
    "plt.show()"
   ]
  },
  {
   "cell_type": "code",
   "execution_count": 29,
   "metadata": {},
   "outputs": [],
   "source": [
    "def compute_coherence_values_a(corpus, dictionary, k, a, b):\n",
    "    \n",
    "    lda_model = gensim.models.ldamodel.LdaModel(corpus=corpus,\n",
    "                                           id2word=dictionary,\n",
    "                                           num_topics=k, \n",
    "                                           random_state=100,\n",
    "                                           chunksize=100,\n",
    "                                           passes=10,\n",
    "                                           alpha=a,\n",
    "                                           eta=b)\n",
    "    \n",
    "    coherence_model_lda = CoherenceModel(model=lda_model, texts=data_lemmatized, dictionary=id2word, coherence='c_v')\n",
    "    \n",
    "    return coherence_model_lda.get_coherence()"
   ]
  },
  {
   "cell_type": "code",
   "execution_count": null,
   "metadata": {},
   "outputs": [
    {
     "name": "stderr",
     "output_type": "stream",
     "text": [
      " 69%|███████████████████████████████████████████████████████▉                         | 76/110 [39:02<16:40, 29.42s/it]"
     ]
    }
   ],
   "source": [
    "grid = {}\n",
    "grid['Validation_Set'] = {}\n",
    "\n",
    "# Alpha parameter\n",
    "alpha = list(np.arange(0.01, 1, 0.11))\n",
    "alpha.append('symmetric')\n",
    "alpha.append('asymmetric')\n",
    "# Beta parameter\n",
    "beta = list(np.arange(0.01, 1, 0.11))\n",
    "beta.append('symmetric')\n",
    "\n",
    "# Validation sets\n",
    "num_of_docs = len(corpus)\n",
    "\n",
    "model_results = {'Topics': [],\n",
    "                 'Alpha': [],\n",
    "                 'Beta': [],\n",
    "                 'Coherence': []\n",
    "                }\n",
    "# Can take a long time to run\n",
    "if 1 == 1:\n",
    "    pbar = tqdm(total=len(alpha)*len(beta))\n",
    "    \n",
    "    # iterate through validation corpuses\n",
    "    for a in alpha:\n",
    "        # iterare through beta values\n",
    "        for b in beta:\n",
    "            # get the coherence score for the given parameters\n",
    "            cv = compute_coherence_values_a(corpus=corpus, dictionary=id2word, \n",
    "                                          k=7, a=a, b=b)\n",
    "            # Save the model results\n",
    "            model_results['Topics'].append(7)\n",
    "            model_results['Alpha'].append(a)\n",
    "            model_results['Beta'].append(b)\n",
    "            model_results['Coherence'].append(cv)\n",
    "\n",
    "            pbar.update(1)\n",
    "    pd.DataFrame(model_results).to_csv('lda_tuning_results.csv', index=False)\n",
    "    pbar.close()"
   ]
  },
  {
   "cell_type": "code",
   "execution_count": null,
   "metadata": {},
   "outputs": [],
   "source": [
    "model_res = pd.DataFrame(model_results)\n",
    "model_res.sort_values(by = ['Coherence'],ascending = False)"
   ]
  },
  {
   "cell_type": "code",
   "execution_count": null,
   "metadata": {},
   "outputs": [],
   "source": [
    "best_alpha = 0.89\n",
    "best_beta = 0.12\n",
    "best_num_top = 8\n",
    "\n",
    "final_LDA_a = gensim.models.ldamodel.LdaModel(corpus=corpus,\n",
    "                                           id2word=id2word,\n",
    "                                           num_topics=best_num_top, \n",
    "                                           random_state=100,\n",
    "                                           chunksize=100,\n",
    "                                           passes=10,\n",
    "                                           alpha=best_alpha,\n",
    "                                           eta=best_beta)\n",
    "pprint(final_LDA_a.print_topics())\n",
    "\n",
    "coherence_LDA_a = compute_coherence_values_a(corpus=corpus, dictionary=id2word, \n",
    "                                          k=best_num_top, a=best_alpha, b=best_beta)"
   ]
  },
  {
   "cell_type": "code",
   "execution_count": null,
   "metadata": {},
   "outputs": [],
   "source": [
    "import pyLDAvis.gensim_models\n",
    "pyLDAvis.enable_notebook()\n",
    "\n",
    "topic_data2 = pyLDAvis.gensim_models.prepare(final_LDA_a, corpus, id2word) \n",
    "topic_data2"
   ]
  },
  {
   "cell_type": "code",
   "execution_count": null,
   "metadata": {},
   "outputs": [],
   "source": [
    "pyLDAvis.save_html(topic_data2, '220711_pyLDA_NFT_Nouns.html')"
   ]
  },
  {
   "cell_type": "code",
   "execution_count": null,
   "metadata": {},
   "outputs": [],
   "source": [
    "all_topics = {}\n",
    "num_terms = 20 # Adjust number of words to represent each topic\n",
    "lambd = 0.5 # Adjust this accordingly based on tuning above\n",
    "for i in range(1,best_num_top+1): #Adjust this to reflect number of topics chosen for final LDA model\n",
    "    topic = topic_data2.topic_info[topic_data2.topic_info.Category == 'Topic'+str(i)].copy()\n",
    "    topic['relevance'] = topic['loglift']*(1-lambd)+topic['logprob']*lambd\n",
    "    all_topics['Topic '+str(i)] = topic.sort_values(by='relevance', ascending=False).Term[:num_terms].values"
   ]
  },
  {
   "cell_type": "code",
   "execution_count": null,
   "metadata": {},
   "outputs": [],
   "source": [
    "topic_words = pd.DataFrame(all_topics).T"
   ]
  },
  {
   "cell_type": "code",
   "execution_count": null,
   "metadata": {},
   "outputs": [],
   "source": [
    "topic_words"
   ]
  },
  {
   "cell_type": "code",
   "execution_count": null,
   "metadata": {},
   "outputs": [],
   "source": [
    "topic_words.to_csv(\"C:/Users/dominik/Desktop/Uni/Masterthesis/Data/Outputs/LDA/220707_topic_words_a.csv\")"
   ]
  },
  {
   "cell_type": "code",
   "execution_count": null,
   "metadata": {},
   "outputs": [],
   "source": [
    "# tabelize data to display in thesis\n",
    "table_data = {\n",
    "    \"Model\":[\"LDA_a\"],\n",
    "    \"Words initial\":[num_words],\n",
    "    \"Words after preprocess\":[words_total],\n",
    "    \"Number of Topics\":[best_num_top],\n",
    "    \"LDA Alpha\":[best_alpha],\n",
    "    \"LDA Beta\":[best_beta],\n",
    "    \"LDA coherrence\":[coherence_LDA_a],\n",
    "    \"LDA Lambda\":[lambd]\n",
    "    }\n",
    "\n",
    "table_inf = pd.DataFrame(table_data)"
   ]
  },
  {
   "cell_type": "code",
   "execution_count": null,
   "metadata": {},
   "outputs": [],
   "source": [
    "table_inf"
   ]
  }
 ],
 "metadata": {
  "kernelspec": {
   "display_name": "Python 3 (ipykernel)",
   "language": "python",
   "name": "python3"
  },
  "language_info": {
   "codemirror_mode": {
    "name": "ipython",
    "version": 3
   },
   "file_extension": ".py",
   "mimetype": "text/x-python",
   "name": "python",
   "nbconvert_exporter": "python",
   "pygments_lexer": "ipython3",
   "version": "3.7.13"
  }
 },
 "nbformat": 4,
 "nbformat_minor": 4
}
